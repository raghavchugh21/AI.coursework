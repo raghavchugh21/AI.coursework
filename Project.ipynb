{
  "nbformat": 4,
  "nbformat_minor": 0,
  "metadata": {
    "colab": {
      "name": "Assignment.ipynb",
      "provenance": [],
      "collapsed_sections": []
    },
    "kernelspec": {
      "name": "python3",
      "display_name": "Python 3"
    }
  },
  "cells": [
    {
      "cell_type": "code",
      "metadata": {
        "id": "TAc85tAFC8ah"
      },
      "source": [
        "import networkx as nx     # Used to Implement Graphs in Python\n",
        "import math\n",
        "import sys\n",
        "import pandas as pd\n",
        "import numpy as np"
      ],
      "execution_count": null,
      "outputs": []
    },
    {
      "cell_type": "code",
      "metadata": {
        "id": "_lnhDuzz4SgS"
      },
      "source": [
        "df = pd.read_csv(\"RFAnet.csv\", header=None, names=[\"source\", \"target\", \"rating\"])"
      ],
      "execution_count": null,
      "outputs": []
    },
    {
      "cell_type": "markdown",
      "metadata": {
        "id": "23um6HvHyyI1"
      },
      "source": [
        "**Exploring Our Dataset**"
      ]
    },
    {
      "cell_type": "code",
      "metadata": {
        "id": "CalO3lxiacgl",
        "colab": {
          "base_uri": "https://localhost:8080/"
        },
        "outputId": "7a7af392-6c95-4146-87ff-69997c94cbcd"
      },
      "source": [
        "df.shape"
      ],
      "execution_count": null,
      "outputs": [
        {
          "output_type": "execute_result",
          "data": {
            "text/plain": [
              "(104554, 3)"
            ]
          },
          "metadata": {
            "tags": []
          },
          "execution_count": 48
        }
      ]
    },
    {
      "cell_type": "code",
      "metadata": {
        "colab": {
          "base_uri": "https://localhost:8080/",
          "height": 204
        },
        "id": "YWgSwiwiyvPt",
        "outputId": "5e83e18e-e193-49c2-8a04-8b1c9d31946f"
      },
      "source": [
        "df.head()"
      ],
      "execution_count": null,
      "outputs": [
        {
          "output_type": "execute_result",
          "data": {
            "text/html": [
              "<div>\n",
              "<style scoped>\n",
              "    .dataframe tbody tr th:only-of-type {\n",
              "        vertical-align: middle;\n",
              "    }\n",
              "\n",
              "    .dataframe tbody tr th {\n",
              "        vertical-align: top;\n",
              "    }\n",
              "\n",
              "    .dataframe thead th {\n",
              "        text-align: right;\n",
              "    }\n",
              "</style>\n",
              "<table border=\"1\" class=\"dataframe\">\n",
              "  <thead>\n",
              "    <tr style=\"text-align: right;\">\n",
              "      <th></th>\n",
              "      <th>source</th>\n",
              "      <th>target</th>\n",
              "      <th>rating</th>\n",
              "    </tr>\n",
              "  </thead>\n",
              "  <tbody>\n",
              "    <tr>\n",
              "      <th>0</th>\n",
              "      <td>5988</td>\n",
              "      <td>5849</td>\n",
              "      <td>0.437</td>\n",
              "    </tr>\n",
              "    <tr>\n",
              "      <th>1</th>\n",
              "      <td>5989</td>\n",
              "      <td>9263</td>\n",
              "      <td>-0.237</td>\n",
              "    </tr>\n",
              "    <tr>\n",
              "      <th>2</th>\n",
              "      <td>5989</td>\n",
              "      <td>7930</td>\n",
              "      <td>0.167</td>\n",
              "    </tr>\n",
              "    <tr>\n",
              "      <th>3</th>\n",
              "      <td>5989</td>\n",
              "      <td>8172</td>\n",
              "      <td>0.242</td>\n",
              "    </tr>\n",
              "    <tr>\n",
              "      <th>4</th>\n",
              "      <td>5989</td>\n",
              "      <td>8609</td>\n",
              "      <td>0.211</td>\n",
              "    </tr>\n",
              "  </tbody>\n",
              "</table>\n",
              "</div>"
            ],
            "text/plain": [
              "   source  target  rating\n",
              "0    5988    5849   0.437\n",
              "1    5989    9263  -0.237\n",
              "2    5989    7930   0.167\n",
              "3    5989    8172   0.242\n",
              "4    5989    8609   0.211"
            ]
          },
          "metadata": {
            "tags": []
          },
          "execution_count": 49
        }
      ]
    },
    {
      "cell_type": "code",
      "metadata": {
        "colab": {
          "base_uri": "https://localhost:8080/",
          "height": 297
        },
        "id": "Ebb8i-cr0pt4",
        "outputId": "a99b38fc-367d-4258-ed65-2974787c3e79"
      },
      "source": [
        "df.describe()"
      ],
      "execution_count": null,
      "outputs": [
        {
          "output_type": "execute_result",
          "data": {
            "text/html": [
              "<div>\n",
              "<style scoped>\n",
              "    .dataframe tbody tr th:only-of-type {\n",
              "        vertical-align: middle;\n",
              "    }\n",
              "\n",
              "    .dataframe tbody tr th {\n",
              "        vertical-align: top;\n",
              "    }\n",
              "\n",
              "    .dataframe thead th {\n",
              "        text-align: right;\n",
              "    }\n",
              "</style>\n",
              "<table border=\"1\" class=\"dataframe\">\n",
              "  <thead>\n",
              "    <tr style=\"text-align: right;\">\n",
              "      <th></th>\n",
              "      <th>source</th>\n",
              "      <th>target</th>\n",
              "      <th>rating</th>\n",
              "    </tr>\n",
              "  </thead>\n",
              "  <tbody>\n",
              "    <tr>\n",
              "      <th>count</th>\n",
              "      <td>104554.000000</td>\n",
              "      <td>104554.000000</td>\n",
              "      <td>104554.000000</td>\n",
              "    </tr>\n",
              "    <tr>\n",
              "      <th>mean</th>\n",
              "      <td>3125.153834</td>\n",
              "      <td>3529.265643</td>\n",
              "      <td>0.235352</td>\n",
              "    </tr>\n",
              "    <tr>\n",
              "      <th>std</th>\n",
              "      <td>2479.682554</td>\n",
              "      <td>2615.536732</td>\n",
              "      <td>0.259216</td>\n",
              "    </tr>\n",
              "    <tr>\n",
              "      <th>min</th>\n",
              "      <td>0.000000</td>\n",
              "      <td>1.000000</td>\n",
              "      <td>-1.000000</td>\n",
              "    </tr>\n",
              "    <tr>\n",
              "      <th>25%</th>\n",
              "      <td>897.000000</td>\n",
              "      <td>1269.000000</td>\n",
              "      <td>0.070000</td>\n",
              "    </tr>\n",
              "    <tr>\n",
              "      <th>50%</th>\n",
              "      <td>2654.000000</td>\n",
              "      <td>3013.000000</td>\n",
              "      <td>0.212000</td>\n",
              "    </tr>\n",
              "    <tr>\n",
              "      <th>75%</th>\n",
              "      <td>5080.000000</td>\n",
              "      <td>5411.000000</td>\n",
              "      <td>0.385000</td>\n",
              "    </tr>\n",
              "    <tr>\n",
              "      <th>max</th>\n",
              "      <td>9658.000000</td>\n",
              "      <td>9657.000000</td>\n",
              "      <td>1.000000</td>\n",
              "    </tr>\n",
              "  </tbody>\n",
              "</table>\n",
              "</div>"
            ],
            "text/plain": [
              "              source         target         rating\n",
              "count  104554.000000  104554.000000  104554.000000\n",
              "mean     3125.153834    3529.265643       0.235352\n",
              "std      2479.682554    2615.536732       0.259216\n",
              "min         0.000000       1.000000      -1.000000\n",
              "25%       897.000000    1269.000000       0.070000\n",
              "50%      2654.000000    3013.000000       0.212000\n",
              "75%      5080.000000    5411.000000       0.385000\n",
              "max      9658.000000    9657.000000       1.000000"
            ]
          },
          "metadata": {
            "tags": []
          },
          "execution_count": 50
        }
      ]
    },
    {
      "cell_type": "code",
      "metadata": {
        "colab": {
          "base_uri": "https://localhost:8080/"
        },
        "id": "Ou6lxsHh0sS2",
        "outputId": "4d5214c0-34b7-487e-97c5-dad28d4a3126"
      },
      "source": [
        "df.isnull().any()"
      ],
      "execution_count": null,
      "outputs": [
        {
          "output_type": "execute_result",
          "data": {
            "text/plain": [
              "source    False\n",
              "target    False\n",
              "rating    False\n",
              "dtype: bool"
            ]
          },
          "metadata": {
            "tags": []
          },
          "execution_count": 51
        }
      ]
    },
    {
      "cell_type": "markdown",
      "metadata": {
        "id": "a0mwylEUy6TA"
      },
      "source": [
        "**Preprocessing the Data**"
      ]
    },
    {
      "cell_type": "markdown",
      "metadata": {
        "id": "wfA_h1TqzDkm"
      },
      "source": [
        "\n",
        "\n",
        "1. Removing edges with absence of a Link (Weight = 0) \n",
        "\n"
      ]
    },
    {
      "cell_type": "code",
      "metadata": {
        "id": "xg_WuJY3rbb2"
      },
      "source": [
        "df = df[df[\"rating\"]!=0]"
      ],
      "execution_count": null,
      "outputs": []
    },
    {
      "cell_type": "markdown",
      "metadata": {
        "id": "K6Irhc77zVZq"
      },
      "source": [
        "2. Splitting the weight column into categorical data, of two classes +1 and -1 (Representing Positive and Negative Edges Respectively)"
      ]
    },
    {
      "cell_type": "code",
      "metadata": {
        "id": "W00wEAWU4ZRI",
        "colab": {
          "base_uri": "https://localhost:8080/",
          "height": 204
        },
        "outputId": "2b6dd39a-0c1b-4f28-e9e6-dfbc22831e3c"
      },
      "source": [
        "df[\"rating\"] = df[\"rating\"].apply(lambda x:1 if x > 0 else -1)\n",
        "df.head()"
      ],
      "execution_count": null,
      "outputs": [
        {
          "output_type": "execute_result",
          "data": {
            "text/html": [
              "<div>\n",
              "<style scoped>\n",
              "    .dataframe tbody tr th:only-of-type {\n",
              "        vertical-align: middle;\n",
              "    }\n",
              "\n",
              "    .dataframe tbody tr th {\n",
              "        vertical-align: top;\n",
              "    }\n",
              "\n",
              "    .dataframe thead th {\n",
              "        text-align: right;\n",
              "    }\n",
              "</style>\n",
              "<table border=\"1\" class=\"dataframe\">\n",
              "  <thead>\n",
              "    <tr style=\"text-align: right;\">\n",
              "      <th></th>\n",
              "      <th>source</th>\n",
              "      <th>target</th>\n",
              "      <th>rating</th>\n",
              "    </tr>\n",
              "  </thead>\n",
              "  <tbody>\n",
              "    <tr>\n",
              "      <th>0</th>\n",
              "      <td>5988</td>\n",
              "      <td>5849</td>\n",
              "      <td>1</td>\n",
              "    </tr>\n",
              "    <tr>\n",
              "      <th>1</th>\n",
              "      <td>5989</td>\n",
              "      <td>9263</td>\n",
              "      <td>-1</td>\n",
              "    </tr>\n",
              "    <tr>\n",
              "      <th>2</th>\n",
              "      <td>5989</td>\n",
              "      <td>7930</td>\n",
              "      <td>1</td>\n",
              "    </tr>\n",
              "    <tr>\n",
              "      <th>3</th>\n",
              "      <td>5989</td>\n",
              "      <td>8172</td>\n",
              "      <td>1</td>\n",
              "    </tr>\n",
              "    <tr>\n",
              "      <th>4</th>\n",
              "      <td>5989</td>\n",
              "      <td>8609</td>\n",
              "      <td>1</td>\n",
              "    </tr>\n",
              "  </tbody>\n",
              "</table>\n",
              "</div>"
            ],
            "text/plain": [
              "   source  target  rating\n",
              "0    5988    5849       1\n",
              "1    5989    9263      -1\n",
              "2    5989    7930       1\n",
              "3    5989    8172       1\n",
              "4    5989    8609       1"
            ]
          },
          "metadata": {
            "tags": []
          },
          "execution_count": 53
        }
      ]
    },
    {
      "cell_type": "markdown",
      "metadata": {
        "id": "CI2DTLBRzt4e"
      },
      "source": [
        "3. Dropping (b,a) if (a,b) is an edge present in the data. Thus, ensuring that only unique pairs of edges are present in our data, to make an Undirected Graph."
      ]
    },
    {
      "cell_type": "code",
      "metadata": {
        "id": "8nAZstPV0tTn",
        "colab": {
          "base_uri": "https://localhost:8080/",
          "height": 204
        },
        "outputId": "6ce79afd-5fd4-4054-ade9-914986f086b0"
      },
      "source": [
        "df.loc[pd.DataFrame(np.sort(df[['source','target']],1),index=df.index).drop_duplicates(keep='first').index]\n",
        "df.head()"
      ],
      "execution_count": null,
      "outputs": [
        {
          "output_type": "execute_result",
          "data": {
            "text/html": [
              "<div>\n",
              "<style scoped>\n",
              "    .dataframe tbody tr th:only-of-type {\n",
              "        vertical-align: middle;\n",
              "    }\n",
              "\n",
              "    .dataframe tbody tr th {\n",
              "        vertical-align: top;\n",
              "    }\n",
              "\n",
              "    .dataframe thead th {\n",
              "        text-align: right;\n",
              "    }\n",
              "</style>\n",
              "<table border=\"1\" class=\"dataframe\">\n",
              "  <thead>\n",
              "    <tr style=\"text-align: right;\">\n",
              "      <th></th>\n",
              "      <th>source</th>\n",
              "      <th>target</th>\n",
              "      <th>rating</th>\n",
              "    </tr>\n",
              "  </thead>\n",
              "  <tbody>\n",
              "    <tr>\n",
              "      <th>0</th>\n",
              "      <td>5988</td>\n",
              "      <td>5849</td>\n",
              "      <td>1</td>\n",
              "    </tr>\n",
              "    <tr>\n",
              "      <th>1</th>\n",
              "      <td>5989</td>\n",
              "      <td>9263</td>\n",
              "      <td>-1</td>\n",
              "    </tr>\n",
              "    <tr>\n",
              "      <th>2</th>\n",
              "      <td>5989</td>\n",
              "      <td>7930</td>\n",
              "      <td>1</td>\n",
              "    </tr>\n",
              "    <tr>\n",
              "      <th>3</th>\n",
              "      <td>5989</td>\n",
              "      <td>8172</td>\n",
              "      <td>1</td>\n",
              "    </tr>\n",
              "    <tr>\n",
              "      <th>4</th>\n",
              "      <td>5989</td>\n",
              "      <td>8609</td>\n",
              "      <td>1</td>\n",
              "    </tr>\n",
              "  </tbody>\n",
              "</table>\n",
              "</div>"
            ],
            "text/plain": [
              "   source  target  rating\n",
              "0    5988    5849       1\n",
              "1    5989    9263      -1\n",
              "2    5989    7930       1\n",
              "3    5989    8172       1\n",
              "4    5989    8609       1"
            ]
          },
          "metadata": {
            "tags": []
          },
          "execution_count": 54
        }
      ]
    },
    {
      "cell_type": "markdown",
      "metadata": {
        "id": "QaKbk0zA0Hc6"
      },
      "source": [
        "Adding Edges and Creating our Graph (Using networkx) "
      ]
    },
    {
      "cell_type": "code",
      "metadata": {
        "id": "eMhiLZQBxCJu"
      },
      "source": [
        "G = nx.Graph()\n",
        "for ind in df.index:\n",
        "  G.add_edge(df['source'][ind], df['target'][ind], weight = df['rating'][ind])"
      ],
      "execution_count": null,
      "outputs": []
    },
    {
      "cell_type": "code",
      "metadata": {
        "id": "P-2BQjMb1GOU",
        "colab": {
          "base_uri": "https://localhost:8080/",
          "height": 37
        },
        "outputId": "5a559696-aab7-45b3-c453-2f6cdb770f56"
      },
      "source": [
        "nx.info(G)"
      ],
      "execution_count": null,
      "outputs": [
        {
          "output_type": "execute_result",
          "data": {
            "application/vnd.google.colaboratory.intrinsic+json": {
              "type": "string"
            },
            "text/plain": [
              "'Name: \\nType: Graph\\nNumber of nodes: 9654\\nNumber of edges: 101886\\nAverage degree:  21.1075'"
            ]
          },
          "metadata": {
            "tags": []
          },
          "execution_count": 56
        }
      ]
    },
    {
      "cell_type": "markdown",
      "metadata": {
        "id": "gM3Wmr3h0TtA"
      },
      "source": [
        "Visualizing Our Graph"
      ]
    },
    {
      "cell_type": "code",
      "metadata": {
        "id": "j9DQ-WmgZUBN"
      },
      "source": [
        "#import matplotlib.pyplot as plt\n",
        "#nx.draw(G)  \n",
        "#plt.draw()"
      ],
      "execution_count": null,
      "outputs": []
    },
    {
      "cell_type": "markdown",
      "metadata": {
        "id": "1LC3bvDB0fd0"
      },
      "source": [
        "Ensure that the Graph is Connected"
      ]
    },
    {
      "cell_type": "code",
      "metadata": {
        "id": "JLvEW-XR189u",
        "colab": {
          "base_uri": "https://localhost:8080/"
        },
        "outputId": "b7c54eb4-cf3c-43ce-980b-00c3498a344c"
      },
      "source": [
        "nx.is_connected(G)"
      ],
      "execution_count": null,
      "outputs": [
        {
          "output_type": "execute_result",
          "data": {
            "text/plain": [
              "True"
            ]
          },
          "metadata": {
            "tags": []
          },
          "execution_count": 58
        }
      ]
    },
    {
      "cell_type": "markdown",
      "metadata": {
        "id": "g9bUbzWL3pQN"
      },
      "source": [
        "Storing the centrality, clustering coefficient and Node Degree value for every node in repective Dictionaries."
      ]
    },
    {
      "cell_type": "code",
      "metadata": {
        "id": "lwsTH5ub6qeZ"
      },
      "source": [
        "centrality_dict = nx.algorithms.centrality.degree_centrality(G)\n",
        "clustering_dict = nx.algorithms.cluster.clustering(G)\n",
        "degree_dict = {}\n",
        "for node in G.nodes():\n",
        "  degree_dict[node] = G.degree(node)"
      ],
      "execution_count": null,
      "outputs": []
    },
    {
      "cell_type": "code",
      "metadata": {
        "id": "1to0oKBFGoUQ"
      },
      "source": [
        "def centrality(node):\n",
        "  return centrality_dict[node]"
      ],
      "execution_count": null,
      "outputs": []
    },
    {
      "cell_type": "code",
      "metadata": {
        "id": "VP1HzaiOGv8D"
      },
      "source": [
        "def cluster_coeff(node):\n",
        "  return clustering_dict[node]"
      ],
      "execution_count": null,
      "outputs": []
    },
    {
      "cell_type": "markdown",
      "metadata": {
        "id": "Gtyhyign4b7h"
      },
      "source": [
        "Function to calculate **'Shortest Path Length'**"
      ]
    },
    {
      "cell_type": "code",
      "metadata": {
        "id": "l0-9pOrofq7T"
      },
      "source": [
        "def spl(node1, node2):\n",
        "  w = G[node1][node2][\"weight\"]\n",
        "  Flag=False\n",
        "  try:\n",
        "    G.remove_edge(node1,node2)\n",
        "    nx.shortest_path_length(G, source=node1, target=node2)\n",
        "    Flag = True\n",
        "  except Exception as e:\n",
        "    G.add_edge(node1,node2,weight = w)\n",
        "    Flag = False\n",
        "  ans = nx.shortest_path_length(G, source=node1, target=node2)\n",
        "  if Flag:\n",
        "    G.add_edge(node1,node2,weight=w)\n",
        "  return ans"
      ],
      "execution_count": null,
      "outputs": []
    },
    {
      "cell_type": "markdown",
      "metadata": {
        "id": "VUYcdAnM41IA"
      },
      "source": [
        "Getting the 75th Percentile Node Degree to check N High Degree Nodes."
      ]
    },
    {
      "cell_type": "code",
      "metadata": {
        "id": "CwvgefnpTWv_",
        "colab": {
          "base_uri": "https://localhost:8080/",
          "height": 297
        },
        "outputId": "25e24a2d-8c6a-4268-c1f2-c9529171a3e2"
      },
      "source": [
        "degrees = [G.degree(node) for node in G.nodes()] \n",
        "\n",
        "df_degrees = pd.DataFrame({'Degrees':degrees})\n",
        "\n",
        "df_degrees.describe()"
      ],
      "execution_count": null,
      "outputs": [
        {
          "output_type": "execute_result",
          "data": {
            "text/html": [
              "<div>\n",
              "<style scoped>\n",
              "    .dataframe tbody tr th:only-of-type {\n",
              "        vertical-align: middle;\n",
              "    }\n",
              "\n",
              "    .dataframe tbody tr th {\n",
              "        vertical-align: top;\n",
              "    }\n",
              "\n",
              "    .dataframe thead th {\n",
              "        text-align: right;\n",
              "    }\n",
              "</style>\n",
              "<table border=\"1\" class=\"dataframe\">\n",
              "  <thead>\n",
              "    <tr style=\"text-align: right;\">\n",
              "      <th></th>\n",
              "      <th>Degrees</th>\n",
              "    </tr>\n",
              "  </thead>\n",
              "  <tbody>\n",
              "    <tr>\n",
              "      <th>count</th>\n",
              "      <td>9654.000000</td>\n",
              "    </tr>\n",
              "    <tr>\n",
              "      <th>mean</th>\n",
              "      <td>21.107520</td>\n",
              "    </tr>\n",
              "    <tr>\n",
              "      <th>std</th>\n",
              "      <td>41.322578</td>\n",
              "    </tr>\n",
              "    <tr>\n",
              "      <th>min</th>\n",
              "      <td>1.000000</td>\n",
              "    </tr>\n",
              "    <tr>\n",
              "      <th>25%</th>\n",
              "      <td>1.000000</td>\n",
              "    </tr>\n",
              "    <tr>\n",
              "      <th>50%</th>\n",
              "      <td>4.000000</td>\n",
              "    </tr>\n",
              "    <tr>\n",
              "      <th>75%</th>\n",
              "      <td>22.000000</td>\n",
              "    </tr>\n",
              "    <tr>\n",
              "      <th>max</th>\n",
              "      <td>627.000000</td>\n",
              "    </tr>\n",
              "  </tbody>\n",
              "</table>\n",
              "</div>"
            ],
            "text/plain": [
              "           Degrees\n",
              "count  9654.000000\n",
              "mean     21.107520\n",
              "std      41.322578\n",
              "min       1.000000\n",
              "25%       1.000000\n",
              "50%       4.000000\n",
              "75%      22.000000\n",
              "max     627.000000"
            ]
          },
          "metadata": {
            "tags": []
          },
          "execution_count": 61
        }
      ]
    },
    {
      "cell_type": "code",
      "metadata": {
        "id": "v7nsLfEeUi8s"
      },
      "source": [
        "percentile65 = 15.00"
      ],
      "execution_count": null,
      "outputs": []
    },
    {
      "cell_type": "markdown",
      "metadata": {
        "id": "sps4Y29B492N"
      },
      "source": [
        "Function to calculate **'N High Degree Nodes in a Path'**"
      ]
    },
    {
      "cell_type": "code",
      "metadata": {
        "id": "I9DI1eSlMaOZ"
      },
      "source": [
        "def n_high_degree(node1, node2):\n",
        "  w = G[node1][node2][\"weight\"]\n",
        "  flag = False\n",
        "  try:\n",
        "    G.remove_edge(node1,node2)\n",
        "    nx.shortest_path(G, source=node1, target=node2)\n",
        "    Flag = True\n",
        "  except Exception as e:\n",
        "    G.add_edge(node1,node2,weight=w)\n",
        "    Flag = False\n",
        "  n=0\n",
        "  for ele in nx.shortest_path(G, source=node1, target=node2):\n",
        "    if G.degree[ele] > percentile65:\n",
        "      n+=1\n",
        "  if Flag:\n",
        "    G.add_edge(node1,node2,weight=w)\n",
        "    \n",
        "  return n"
      ],
      "execution_count": null,
      "outputs": []
    },
    {
      "cell_type": "markdown",
      "metadata": {
        "id": "1FyIhUY_5Dci"
      },
      "source": [
        "Function to calculate **'Propensity of a Node'**"
      ]
    },
    {
      "cell_type": "code",
      "metadata": {
        "id": "JJ6u1t5_MUkw"
      },
      "source": [
        "def propensity(node):\n",
        "  List = [edge for edge in G.edges(node)]\n",
        "  n = len(List)\n",
        "  k=0\n",
        "  for edge in List:\n",
        "    if G[edge[0]][edge[1]]['weight']>0:\n",
        "      k+=1\n",
        "  if n == 0:\n",
        "    return 0\n",
        "  return float(k)/n"
      ],
      "execution_count": null,
      "outputs": []
    },
    {
      "cell_type": "markdown",
      "metadata": {
        "id": "f9HK8nT15HqC"
      },
      "source": [
        "Function to calculate **'Ratio of Mutual Neighbours with Same Sign'**"
      ]
    },
    {
      "cell_type": "code",
      "metadata": {
        "id": "iJ-0FMSQydMM"
      },
      "source": [
        "def r_mutual(node1,node2):\n",
        "  k = 0\n",
        "  n = 0\n",
        "  for ele in nx.common_neighbors(G,node1,node2):\n",
        "    if G[node1][ele]['weight']*G[node2][ele]['weight']>0:\n",
        "      k+=1\n",
        "    n+=1\n",
        "  if n==0:\n",
        "    return 0\n",
        "  return float(k)/n"
      ],
      "execution_count": null,
      "outputs": []
    },
    {
      "cell_type": "markdown",
      "metadata": {
        "id": "9m-pfmCg5NyR"
      },
      "source": [
        "Function to calculate **'Ratio of Structurally Balanced Paths'**"
      ]
    },
    {
      "cell_type": "code",
      "metadata": {
        "id": "PQr_d77FKzWp"
      },
      "source": [
        "from itertools import islice\n",
        "def k_shortest_paths(G, source, target, k):\n",
        "    return list(\n",
        "        islice(nx.shortest_simple_paths(G, source, target), k)\n",
        "    )\n",
        "\n",
        "def r_balanced(node1,node2):\n",
        "  n=0\n",
        "  k=0\n",
        "  for path in k_shortest_paths(G, node1, node2, 10):\n",
        "    n+=1\n",
        "    neg=0\n",
        "    for u,v in zip(path[0:],path[1:]):\n",
        "      if G[u][v]['weight'] == -1:\n",
        "        neg+=1\n",
        "    if neg%2 == 0:\n",
        "      k+=1\n",
        "  return float(k)/n"
      ],
      "execution_count": null,
      "outputs": []
    },
    {
      "cell_type": "markdown",
      "metadata": {
        "id": "oVvTAJSb3-b7"
      },
      "source": [
        "**CREATING OUR FINAL TRAIN DATASET**"
      ]
    },
    {
      "cell_type": "code",
      "metadata": {
        "id": "LH11_xOe6Xhj"
      },
      "source": [
        "column_names = ['node_1','node_2','node_centrality1','node_centrality2','cluster_coeff1','cluster_coeff2','propensity1','propensity2','shortest_path_length','n_high_degree','r_balanced','r_mutual','rating']"
      ],
      "execution_count": null,
      "outputs": []
    },
    {
      "cell_type": "code",
      "metadata": {
        "id": "oVHe_3BJhcfK"
      },
      "source": [
        "dataset = pd.DataFrame(columns = column_names)"
      ],
      "execution_count": null,
      "outputs": []
    },
    {
      "cell_type": "code",
      "metadata": {
        "id": "fSDydruIH9dj"
      },
      "source": [
        "from tqdm import tqdm"
      ],
      "execution_count": null,
      "outputs": []
    },
    {
      "cell_type": "code",
      "metadata": {
        "id": "Q8KXZS8NCa1w"
      },
      "source": [
        "L = len(G.edges())\n",
        "for i, edge in zip(tqdm(range(L), ncols = 100, desc =\"Progress\"),G.edges()):\n",
        "  dataset = dataset.append({'node_1':edge[0],\n",
        "                  'node_2':edge[1],\n",
        "                  'node_centrality1' : centrality_dict[edge[0]],\n",
        "                  'node_centrality2' : centrality_dict[edge[1]],\n",
        "                  'propensity1': propensity(edge[0]),\n",
        "                  'propensity2': propensity(edge[1]), \n",
        "                  'cluster_coeff1' : clustering_dict[edge[0]],\n",
        "                  'cluster_coeff2' : clustering_dict[edge[1]],\n",
        "                  'shortest_path_length' : spl(edge[0],edge[1]),\n",
        "                  'n_high_degree' : n_high_degree(edge[0],edge[1]),\n",
        "                  'r_balanced': r_balanced(edge[0],edge[1]),\n",
        "                  'r_mutual': r_mutual(edge[0],edge[1]),\n",
        "                  'rating' : G[edge[0]][edge[1]]['weight']\n",
        "                  }, ignore_index=True )"
      ],
      "execution_count": null,
      "outputs": []
    },
    {
      "cell_type": "code",
      "metadata": {
        "id": "-JY8Mt4HVl0D"
      },
      "source": [
        "dataset = pd.read_csv('FinalData.csv')"
      ],
      "execution_count": null,
      "outputs": []
    },
    {
      "cell_type": "code",
      "metadata": {
        "id": "zn0XqB8WcjXG",
        "colab": {
          "base_uri": "https://localhost:8080/",
          "height": 317
        },
        "outputId": "d37d3424-c59c-4e4d-e958-14ce2ac0d92b"
      },
      "source": [
        "dataset.head(8)"
      ],
      "execution_count": null,
      "outputs": [
        {
          "output_type": "execute_result",
          "data": {
            "text/html": [
              "<div>\n",
              "<style scoped>\n",
              "    .dataframe tbody tr th:only-of-type {\n",
              "        vertical-align: middle;\n",
              "    }\n",
              "\n",
              "    .dataframe tbody tr th {\n",
              "        vertical-align: top;\n",
              "    }\n",
              "\n",
              "    .dataframe thead th {\n",
              "        text-align: right;\n",
              "    }\n",
              "</style>\n",
              "<table border=\"1\" class=\"dataframe\">\n",
              "  <thead>\n",
              "    <tr style=\"text-align: right;\">\n",
              "      <th></th>\n",
              "      <th>node_1</th>\n",
              "      <th>node_2</th>\n",
              "      <th>node_centrality1</th>\n",
              "      <th>node_centrality2</th>\n",
              "      <th>cluster_coeff1</th>\n",
              "      <th>cluster_coeff2</th>\n",
              "      <th>propensity1</th>\n",
              "      <th>propensity2</th>\n",
              "      <th>shortest_path_length</th>\n",
              "      <th>n_high_degree</th>\n",
              "      <th>r_balanced</th>\n",
              "      <th>r_mutual</th>\n",
              "      <th>rating</th>\n",
              "    </tr>\n",
              "  </thead>\n",
              "  <tbody>\n",
              "    <tr>\n",
              "      <th>0</th>\n",
              "      <td>5988.0</td>\n",
              "      <td>5849.0</td>\n",
              "      <td>0.001968</td>\n",
              "      <td>0.006319</td>\n",
              "      <td>0.134503</td>\n",
              "      <td>0.088525</td>\n",
              "      <td>1.0</td>\n",
              "      <td>0.967213</td>\n",
              "      <td>2.0</td>\n",
              "      <td>3.0</td>\n",
              "      <td>0.9</td>\n",
              "      <td>1.0</td>\n",
              "      <td>1.0</td>\n",
              "    </tr>\n",
              "    <tr>\n",
              "      <th>1</th>\n",
              "      <td>5988.0</td>\n",
              "      <td>5989.0</td>\n",
              "      <td>0.001968</td>\n",
              "      <td>0.009427</td>\n",
              "      <td>0.134503</td>\n",
              "      <td>0.105739</td>\n",
              "      <td>1.0</td>\n",
              "      <td>0.835165</td>\n",
              "      <td>3.0</td>\n",
              "      <td>4.0</td>\n",
              "      <td>0.7</td>\n",
              "      <td>0.0</td>\n",
              "      <td>1.0</td>\n",
              "    </tr>\n",
              "    <tr>\n",
              "      <th>2</th>\n",
              "      <td>5988.0</td>\n",
              "      <td>2685.0</td>\n",
              "      <td>0.001968</td>\n",
              "      <td>0.010981</td>\n",
              "      <td>0.134503</td>\n",
              "      <td>0.113747</td>\n",
              "      <td>1.0</td>\n",
              "      <td>0.858491</td>\n",
              "      <td>2.0</td>\n",
              "      <td>3.0</td>\n",
              "      <td>0.8</td>\n",
              "      <td>1.0</td>\n",
              "      <td>1.0</td>\n",
              "    </tr>\n",
              "    <tr>\n",
              "      <th>3</th>\n",
              "      <td>5988.0</td>\n",
              "      <td>4727.0</td>\n",
              "      <td>0.001968</td>\n",
              "      <td>0.030975</td>\n",
              "      <td>0.134503</td>\n",
              "      <td>0.072389</td>\n",
              "      <td>1.0</td>\n",
              "      <td>0.859532</td>\n",
              "      <td>2.0</td>\n",
              "      <td>3.0</td>\n",
              "      <td>1.0</td>\n",
              "      <td>1.0</td>\n",
              "      <td>1.0</td>\n",
              "    </tr>\n",
              "    <tr>\n",
              "      <th>4</th>\n",
              "      <td>5988.0</td>\n",
              "      <td>254.0</td>\n",
              "      <td>0.001968</td>\n",
              "      <td>0.061328</td>\n",
              "      <td>0.134503</td>\n",
              "      <td>0.059868</td>\n",
              "      <td>1.0</td>\n",
              "      <td>0.979730</td>\n",
              "      <td>2.0</td>\n",
              "      <td>3.0</td>\n",
              "      <td>1.0</td>\n",
              "      <td>1.0</td>\n",
              "      <td>1.0</td>\n",
              "    </tr>\n",
              "    <tr>\n",
              "      <th>5</th>\n",
              "      <td>5988.0</td>\n",
              "      <td>5107.0</td>\n",
              "      <td>0.001968</td>\n",
              "      <td>0.032943</td>\n",
              "      <td>0.134503</td>\n",
              "      <td>0.045156</td>\n",
              "      <td>1.0</td>\n",
              "      <td>0.830189</td>\n",
              "      <td>2.0</td>\n",
              "      <td>3.0</td>\n",
              "      <td>0.9</td>\n",
              "      <td>1.0</td>\n",
              "      <td>1.0</td>\n",
              "    </tr>\n",
              "    <tr>\n",
              "      <th>6</th>\n",
              "      <td>5988.0</td>\n",
              "      <td>107.0</td>\n",
              "      <td>0.001968</td>\n",
              "      <td>0.016161</td>\n",
              "      <td>0.134503</td>\n",
              "      <td>0.109512</td>\n",
              "      <td>1.0</td>\n",
              "      <td>0.891026</td>\n",
              "      <td>2.0</td>\n",
              "      <td>3.0</td>\n",
              "      <td>0.9</td>\n",
              "      <td>1.0</td>\n",
              "      <td>1.0</td>\n",
              "    </tr>\n",
              "    <tr>\n",
              "      <th>7</th>\n",
              "      <td>5988.0</td>\n",
              "      <td>5991.0</td>\n",
              "      <td>0.001968</td>\n",
              "      <td>0.003626</td>\n",
              "      <td>0.134503</td>\n",
              "      <td>0.163025</td>\n",
              "      <td>1.0</td>\n",
              "      <td>0.885714</td>\n",
              "      <td>2.0</td>\n",
              "      <td>3.0</td>\n",
              "      <td>0.6</td>\n",
              "      <td>1.0</td>\n",
              "      <td>1.0</td>\n",
              "    </tr>\n",
              "  </tbody>\n",
              "</table>\n",
              "</div>"
            ],
            "text/plain": [
              "   node_1  node_2  node_centrality1  ...  r_balanced  r_mutual  rating\n",
              "0  5988.0  5849.0          0.001968  ...         0.9       1.0     1.0\n",
              "1  5988.0  5989.0          0.001968  ...         0.7       0.0     1.0\n",
              "2  5988.0  2685.0          0.001968  ...         0.8       1.0     1.0\n",
              "3  5988.0  4727.0          0.001968  ...         1.0       1.0     1.0\n",
              "4  5988.0   254.0          0.001968  ...         1.0       1.0     1.0\n",
              "5  5988.0  5107.0          0.001968  ...         0.9       1.0     1.0\n",
              "6  5988.0   107.0          0.001968  ...         0.9       1.0     1.0\n",
              "7  5988.0  5991.0          0.001968  ...         0.6       1.0     1.0\n",
              "\n",
              "[8 rows x 13 columns]"
            ]
          },
          "metadata": {
            "tags": []
          },
          "execution_count": 145
        }
      ]
    },
    {
      "cell_type": "code",
      "metadata": {
        "colab": {
          "base_uri": "https://localhost:8080/"
        },
        "id": "yDCenvxM2HZr",
        "outputId": "07bdce26-c00d-49a9-808a-ce7bf590f31c"
      },
      "source": [
        "dataset.columns"
      ],
      "execution_count": null,
      "outputs": [
        {
          "output_type": "execute_result",
          "data": {
            "text/plain": [
              "Index(['node_1', 'node_2', 'node_centrality1', 'node_centrality2',\n",
              "       'cluster_coeff1', 'cluster_coeff2', 'propensity1', 'propensity2',\n",
              "       'shortest_path_length', 'n_high_degree', 'r_balanced', 'r_mutual',\n",
              "       'rating'],\n",
              "      dtype='object')"
            ]
          },
          "metadata": {
            "tags": []
          },
          "execution_count": 146
        }
      ]
    },
    {
      "cell_type": "code",
      "metadata": {
        "colab": {
          "base_uri": "https://localhost:8080/"
        },
        "id": "6nRnFEkq6ory",
        "outputId": "af31ee52-73d1-40dc-b3de-b3fe56af0f57"
      },
      "source": [
        "dataset.shape"
      ],
      "execution_count": null,
      "outputs": [
        {
          "output_type": "execute_result",
          "data": {
            "text/plain": [
              "(101886, 13)"
            ]
          },
          "metadata": {
            "tags": []
          },
          "execution_count": 147
        }
      ]
    },
    {
      "cell_type": "code",
      "metadata": {
        "id": "7PoZqk6JhpmB"
      },
      "source": [
        "from sklearn.preprocessing import MinMaxScaler"
      ],
      "execution_count": null,
      "outputs": []
    },
    {
      "cell_type": "code",
      "metadata": {
        "id": "cbm5xGmmfJIX"
      },
      "source": [
        "min_max_scaler = MinMaxScaler()\n",
        "min_max_scaler.fit(dataset[column_names[2:12]])\n",
        "dataset[column_names[2:12]] = min_max_scaler.transform(dataset[column_names[2:12]])"
      ],
      "execution_count": null,
      "outputs": []
    },
    {
      "cell_type": "code",
      "metadata": {
        "colab": {
          "base_uri": "https://localhost:8080/",
          "height": 224
        },
        "id": "2XGWZ3UHhk6l",
        "outputId": "f480e428-71bc-4ca2-ddca-850813ea9415"
      },
      "source": [
        "dataset.head()"
      ],
      "execution_count": null,
      "outputs": [
        {
          "output_type": "execute_result",
          "data": {
            "text/html": [
              "<div>\n",
              "<style scoped>\n",
              "    .dataframe tbody tr th:only-of-type {\n",
              "        vertical-align: middle;\n",
              "    }\n",
              "\n",
              "    .dataframe tbody tr th {\n",
              "        vertical-align: top;\n",
              "    }\n",
              "\n",
              "    .dataframe thead th {\n",
              "        text-align: right;\n",
              "    }\n",
              "</style>\n",
              "<table border=\"1\" class=\"dataframe\">\n",
              "  <thead>\n",
              "    <tr style=\"text-align: right;\">\n",
              "      <th></th>\n",
              "      <th>node_1</th>\n",
              "      <th>node_2</th>\n",
              "      <th>node_centrality1</th>\n",
              "      <th>node_centrality2</th>\n",
              "      <th>cluster_coeff1</th>\n",
              "      <th>cluster_coeff2</th>\n",
              "      <th>propensity1</th>\n",
              "      <th>propensity2</th>\n",
              "      <th>shortest_path_length</th>\n",
              "      <th>n_high_degree</th>\n",
              "      <th>r_balanced</th>\n",
              "      <th>r_mutual</th>\n",
              "      <th>rating</th>\n",
              "    </tr>\n",
              "  </thead>\n",
              "  <tbody>\n",
              "    <tr>\n",
              "      <th>0</th>\n",
              "      <td>5988.0</td>\n",
              "      <td>5849.0</td>\n",
              "      <td>0.028754</td>\n",
              "      <td>0.095847</td>\n",
              "      <td>0.134503</td>\n",
              "      <td>0.088525</td>\n",
              "      <td>1.0</td>\n",
              "      <td>0.967213</td>\n",
              "      <td>0.4</td>\n",
              "      <td>0.6</td>\n",
              "      <td>0.9</td>\n",
              "      <td>1.0</td>\n",
              "      <td>1.0</td>\n",
              "    </tr>\n",
              "    <tr>\n",
              "      <th>1</th>\n",
              "      <td>5988.0</td>\n",
              "      <td>5989.0</td>\n",
              "      <td>0.028754</td>\n",
              "      <td>0.143770</td>\n",
              "      <td>0.134503</td>\n",
              "      <td>0.105739</td>\n",
              "      <td>1.0</td>\n",
              "      <td>0.835165</td>\n",
              "      <td>0.6</td>\n",
              "      <td>0.8</td>\n",
              "      <td>0.7</td>\n",
              "      <td>0.0</td>\n",
              "      <td>1.0</td>\n",
              "    </tr>\n",
              "    <tr>\n",
              "      <th>2</th>\n",
              "      <td>5988.0</td>\n",
              "      <td>2685.0</td>\n",
              "      <td>0.028754</td>\n",
              "      <td>0.167732</td>\n",
              "      <td>0.134503</td>\n",
              "      <td>0.113747</td>\n",
              "      <td>1.0</td>\n",
              "      <td>0.858491</td>\n",
              "      <td>0.4</td>\n",
              "      <td>0.6</td>\n",
              "      <td>0.8</td>\n",
              "      <td>1.0</td>\n",
              "      <td>1.0</td>\n",
              "    </tr>\n",
              "    <tr>\n",
              "      <th>3</th>\n",
              "      <td>5988.0</td>\n",
              "      <td>4727.0</td>\n",
              "      <td>0.028754</td>\n",
              "      <td>0.476038</td>\n",
              "      <td>0.134503</td>\n",
              "      <td>0.072389</td>\n",
              "      <td>1.0</td>\n",
              "      <td>0.859532</td>\n",
              "      <td>0.4</td>\n",
              "      <td>0.6</td>\n",
              "      <td>1.0</td>\n",
              "      <td>1.0</td>\n",
              "      <td>1.0</td>\n",
              "    </tr>\n",
              "    <tr>\n",
              "      <th>4</th>\n",
              "      <td>5988.0</td>\n",
              "      <td>254.0</td>\n",
              "      <td>0.028754</td>\n",
              "      <td>0.944089</td>\n",
              "      <td>0.134503</td>\n",
              "      <td>0.059868</td>\n",
              "      <td>1.0</td>\n",
              "      <td>0.979730</td>\n",
              "      <td>0.4</td>\n",
              "      <td>0.6</td>\n",
              "      <td>1.0</td>\n",
              "      <td>1.0</td>\n",
              "      <td>1.0</td>\n",
              "    </tr>\n",
              "  </tbody>\n",
              "</table>\n",
              "</div>"
            ],
            "text/plain": [
              "   node_1  node_2  node_centrality1  ...  r_balanced  r_mutual  rating\n",
              "0  5988.0  5849.0          0.028754  ...         0.9       1.0     1.0\n",
              "1  5988.0  5989.0          0.028754  ...         0.7       0.0     1.0\n",
              "2  5988.0  2685.0          0.028754  ...         0.8       1.0     1.0\n",
              "3  5988.0  4727.0          0.028754  ...         1.0       1.0     1.0\n",
              "4  5988.0   254.0          0.028754  ...         1.0       1.0     1.0\n",
              "\n",
              "[5 rows x 13 columns]"
            ]
          },
          "metadata": {
            "tags": []
          },
          "execution_count": 150
        }
      ]
    },
    {
      "cell_type": "code",
      "metadata": {
        "id": "8ex4cMXdoggT"
      },
      "source": [
        "dataset[column_names]=dataset[column_names].astype('float')"
      ],
      "execution_count": null,
      "outputs": []
    },
    {
      "cell_type": "code",
      "metadata": {
        "colab": {
          "base_uri": "https://localhost:8080/",
          "height": 224
        },
        "id": "NQBPn1n0iqLx",
        "outputId": "8d6d4f80-cab7-4e58-f84b-7382591e5358"
      },
      "source": [
        "dataset.head()"
      ],
      "execution_count": null,
      "outputs": [
        {
          "output_type": "execute_result",
          "data": {
            "text/html": [
              "<div>\n",
              "<style scoped>\n",
              "    .dataframe tbody tr th:only-of-type {\n",
              "        vertical-align: middle;\n",
              "    }\n",
              "\n",
              "    .dataframe tbody tr th {\n",
              "        vertical-align: top;\n",
              "    }\n",
              "\n",
              "    .dataframe thead th {\n",
              "        text-align: right;\n",
              "    }\n",
              "</style>\n",
              "<table border=\"1\" class=\"dataframe\">\n",
              "  <thead>\n",
              "    <tr style=\"text-align: right;\">\n",
              "      <th></th>\n",
              "      <th>node_1</th>\n",
              "      <th>node_2</th>\n",
              "      <th>node_centrality1</th>\n",
              "      <th>node_centrality2</th>\n",
              "      <th>cluster_coeff1</th>\n",
              "      <th>cluster_coeff2</th>\n",
              "      <th>propensity1</th>\n",
              "      <th>propensity2</th>\n",
              "      <th>shortest_path_length</th>\n",
              "      <th>n_high_degree</th>\n",
              "      <th>r_balanced</th>\n",
              "      <th>r_mutual</th>\n",
              "      <th>rating</th>\n",
              "    </tr>\n",
              "  </thead>\n",
              "  <tbody>\n",
              "    <tr>\n",
              "      <th>0</th>\n",
              "      <td>5988.0</td>\n",
              "      <td>5849.0</td>\n",
              "      <td>0.028754</td>\n",
              "      <td>0.095847</td>\n",
              "      <td>0.134503</td>\n",
              "      <td>0.088525</td>\n",
              "      <td>1.0</td>\n",
              "      <td>0.967213</td>\n",
              "      <td>0.4</td>\n",
              "      <td>0.6</td>\n",
              "      <td>0.9</td>\n",
              "      <td>1.0</td>\n",
              "      <td>1.0</td>\n",
              "    </tr>\n",
              "    <tr>\n",
              "      <th>1</th>\n",
              "      <td>5988.0</td>\n",
              "      <td>5989.0</td>\n",
              "      <td>0.028754</td>\n",
              "      <td>0.143770</td>\n",
              "      <td>0.134503</td>\n",
              "      <td>0.105739</td>\n",
              "      <td>1.0</td>\n",
              "      <td>0.835165</td>\n",
              "      <td>0.6</td>\n",
              "      <td>0.8</td>\n",
              "      <td>0.7</td>\n",
              "      <td>0.0</td>\n",
              "      <td>1.0</td>\n",
              "    </tr>\n",
              "    <tr>\n",
              "      <th>2</th>\n",
              "      <td>5988.0</td>\n",
              "      <td>2685.0</td>\n",
              "      <td>0.028754</td>\n",
              "      <td>0.167732</td>\n",
              "      <td>0.134503</td>\n",
              "      <td>0.113747</td>\n",
              "      <td>1.0</td>\n",
              "      <td>0.858491</td>\n",
              "      <td>0.4</td>\n",
              "      <td>0.6</td>\n",
              "      <td>0.8</td>\n",
              "      <td>1.0</td>\n",
              "      <td>1.0</td>\n",
              "    </tr>\n",
              "    <tr>\n",
              "      <th>3</th>\n",
              "      <td>5988.0</td>\n",
              "      <td>4727.0</td>\n",
              "      <td>0.028754</td>\n",
              "      <td>0.476038</td>\n",
              "      <td>0.134503</td>\n",
              "      <td>0.072389</td>\n",
              "      <td>1.0</td>\n",
              "      <td>0.859532</td>\n",
              "      <td>0.4</td>\n",
              "      <td>0.6</td>\n",
              "      <td>1.0</td>\n",
              "      <td>1.0</td>\n",
              "      <td>1.0</td>\n",
              "    </tr>\n",
              "    <tr>\n",
              "      <th>4</th>\n",
              "      <td>5988.0</td>\n",
              "      <td>254.0</td>\n",
              "      <td>0.028754</td>\n",
              "      <td>0.944089</td>\n",
              "      <td>0.134503</td>\n",
              "      <td>0.059868</td>\n",
              "      <td>1.0</td>\n",
              "      <td>0.979730</td>\n",
              "      <td>0.4</td>\n",
              "      <td>0.6</td>\n",
              "      <td>1.0</td>\n",
              "      <td>1.0</td>\n",
              "      <td>1.0</td>\n",
              "    </tr>\n",
              "  </tbody>\n",
              "</table>\n",
              "</div>"
            ],
            "text/plain": [
              "   node_1  node_2  node_centrality1  ...  r_balanced  r_mutual  rating\n",
              "0  5988.0  5849.0          0.028754  ...         0.9       1.0     1.0\n",
              "1  5988.0  5989.0          0.028754  ...         0.7       0.0     1.0\n",
              "2  5988.0  2685.0          0.028754  ...         0.8       1.0     1.0\n",
              "3  5988.0  4727.0          0.028754  ...         1.0       1.0     1.0\n",
              "4  5988.0   254.0          0.028754  ...         1.0       1.0     1.0\n",
              "\n",
              "[5 rows x 13 columns]"
            ]
          },
          "metadata": {
            "tags": []
          },
          "execution_count": 152
        }
      ]
    },
    {
      "cell_type": "code",
      "metadata": {
        "id": "1N9HguVFAZ86"
      },
      "source": [
        "dataset['rating'] = dataset['rating'].apply(lambda x: 0 if x == 1 else 1)"
      ],
      "execution_count": null,
      "outputs": []
    },
    {
      "cell_type": "code",
      "metadata": {
        "colab": {
          "base_uri": "https://localhost:8080/"
        },
        "id": "7oqBHoroAu3J",
        "outputId": "24ba4b71-ea8c-4f18-9756-776c8cd8811e"
      },
      "source": [
        "print('Percentage of Negative Edges: {0}%'.format(round(100 * dataset['rating'].sum() / len(dataset['rating']), 2)))"
      ],
      "execution_count": null,
      "outputs": [
        {
          "output_type": "stream",
          "text": [
            "Percentage of Negative Edges: 16.28%\n"
          ],
          "name": "stdout"
        }
      ]
    },
    {
      "cell_type": "code",
      "metadata": {
        "id": "nL1uqY61Qaf2"
      },
      "source": [
        "import matplotlib.pyplot as plt"
      ],
      "execution_count": null,
      "outputs": []
    },
    {
      "cell_type": "code",
      "metadata": {
        "colab": {
          "base_uri": "https://localhost:8080/",
          "height": 312
        },
        "id": "m8YP3oW3A66r",
        "outputId": "4341297b-5ce6-4ab7-eef4-7d4297e0bd3f"
      },
      "source": [
        "plt.hist(dataset['rating'], bins=3, weights=np.ones(len(dataset['rating'])) / len(dataset['rating']))\n",
        "plt.xlabel('Edge Weight')\n",
        "plt.ylabel('Empirical PDF')\n",
        "plt.title('Empirical distribution of Edge Weights')"
      ],
      "execution_count": null,
      "outputs": [
        {
          "output_type": "execute_result",
          "data": {
            "text/plain": [
              "Text(0.5, 1.0, 'Empirical distribution of Edge Weights')"
            ]
          },
          "metadata": {
            "tags": []
          },
          "execution_count": 156
        },
        {
          "output_type": "display_data",
          "data": {
            "image/png": "[encoded data removed]",
            "text/plain": [
              "<Figure size 432x288 with 1 Axes>"
            ]
          },
          "metadata": {
            "tags": [],
            "needs_background": "light"
          }
        }
      ]
    },
    {
      "cell_type": "code",
      "metadata": {
        "id": "AlmOrNQGCbNU"
      },
      "source": [
        "X_trainAB = data.drop(['node_1','node_2','rating'], axis = 1)\n",
        "X_trainA = data[['shortest_path_length','n_high_degree','r_balanced','r_mutual']]\n",
        "y_train = data['rating']\n",
        "\n",
        "X_testAB = test_data.drop(['node_1','node_2','rating'], axis = 1)\n",
        "X_testA = test_data[['shortest_path_length','n_high_degree','r_balanced','r_mutual']]\n",
        "y_test = test_data['rating']"
      ],
      "execution_count": null,
      "outputs": []
    },
    {
      "cell_type": "code",
      "metadata": {
        "colab": {
          "base_uri": "https://localhost:8080/"
        },
        "id": "6n23Rl3rCHJu",
        "outputId": "c4cd025b-7db6-4b3d-ee97-a0ce097e3aaf"
      },
      "source": [
        "data, test_data = train_test_split(dataset, test_size=0.3)\n",
        "print('Train-valid data length: {0}'.format(len(data)))\n",
        "print('Test data length: {0}'.format(len(test_data)))"
      ],
      "execution_count": null,
      "outputs": [
        {
          "output_type": "stream",
          "text": [
            "Train-valid data length: 71320\n",
            "Test data length: 30566\n"
          ],
          "name": "stdout"
        }
      ]
    },
    {
      "cell_type": "code",
      "metadata": {
        "id": "SsrArUymiruZ"
      },
      "source": [
        "from sklearn.model_selection import train_test_split\n",
        "from sklearn.naive_bayes import GaussianNB\n",
        "from sklearn.model_selection import GridSearchCV\n",
        "from sklearn.metrics import f1_score, confusion_matrix\n",
        "from sklearn.metrics import accuracy_score"
      ],
      "execution_count": null,
      "outputs": []
    },
    {
      "cell_type": "code",
      "metadata": {
        "id": "DE80eYttRlg-"
      },
      "source": [
        "modelA = GaussianNB()\n",
        "modelAB = GaussianNB()"
      ],
      "execution_count": null,
      "outputs": []
    },
    {
      "cell_type": "code",
      "metadata": {
        "colab": {
          "base_uri": "https://localhost:8080/"
        },
        "id": "YKEfwI1TdOFm",
        "outputId": "1bcf8988-6408-4076-e534-33808998a6e6"
      },
      "source": [
        "modelA.fit(X_trainA, y_train)"
      ],
      "execution_count": null,
      "outputs": [
        {
          "output_type": "execute_result",
          "data": {
            "text/plain": [
              "GaussianNB(priors=None, var_smoothing=1e-09)"
            ]
          },
          "metadata": {
            "tags": []
          },
          "execution_count": 161
        }
      ]
    },
    {
      "cell_type": "code",
      "metadata": {
        "colab": {
          "base_uri": "https://localhost:8080/"
        },
        "id": "_A0YuzwTdcni",
        "outputId": "6f4fd661-952d-4894-9392-e92a63e96dff"
      },
      "source": [
        "modelAB.fit(X_trainAB, y_train)"
      ],
      "execution_count": null,
      "outputs": [
        {
          "output_type": "execute_result",
          "data": {
            "text/plain": [
              "GaussianNB(priors=None, var_smoothing=1e-09)"
            ]
          },
          "metadata": {
            "tags": []
          },
          "execution_count": 162
        }
      ]
    },
    {
      "cell_type": "code",
      "metadata": {
        "colab": {
          "base_uri": "https://localhost:8080/"
        },
        "id": "gqzne_UWdhvu",
        "outputId": "60508d3c-6ac3-4fd1-ba68-8b8fc440c105"
      },
      "source": [
        "modelA.score(X_testA, y_test)"
      ],
      "execution_count": null,
      "outputs": [
        {
          "output_type": "execute_result",
          "data": {
            "text/plain": [
              "0.8159719950271543"
            ]
          },
          "metadata": {
            "tags": []
          },
          "execution_count": 163
        }
      ]
    },
    {
      "cell_type": "code",
      "metadata": {
        "colab": {
          "base_uri": "https://localhost:8080/"
        },
        "id": "1U2j1mYIdpkL",
        "outputId": "72d7dea4-18eb-40c3-d024-bd57c21ae0e5"
      },
      "source": [
        "modelAB.score(X_testAB, y_test)"
      ],
      "execution_count": null,
      "outputs": [
        {
          "output_type": "execute_result",
          "data": {
            "text/plain": [
              "0.8505529019171628"
            ]
          },
          "metadata": {
            "tags": []
          },
          "execution_count": 164
        }
      ]
    },
    {
      "cell_type": "code",
      "metadata": {
        "id": "nZ6Gpq17oGi5"
      },
      "source": [
        "y_pred = np.array([])"
      ],
      "execution_count": 259,
      "outputs": []
    },
    {
      "cell_type": "code",
      "metadata": {
        "id": "64RoX5qPd6xn"
      },
      "source": [
        "for cols in test_data.values:\n",
        "  if degree_dict[cols[0]]<10 and degree_dict[cols[1]]<10:\n",
        "    y_pred = np.append(y_pred, modelA.predict(cols[8:12].reshape(1, -1)))\n",
        "  else:\n",
        "    y_pred = np.append(y_pred, modelAB.predict(cols[2:12].reshape(1, -1)))"
      ],
      "execution_count": 260,
      "outputs": []
    },
    {
      "cell_type": "code",
      "metadata": {
        "colab": {
          "base_uri": "https://localhost:8080/"
        },
        "id": "boF8vAIYt1uA",
        "outputId": "58489a34-35f0-4928-b96a-e7d9de319e5c"
      },
      "source": [
        "accuracy_score(y_test,y_pred)"
      ],
      "execution_count": 262,
      "outputs": [
        {
          "output_type": "stream",
          "text": [
            "0.8704547536478441\n"
          ],
          "name": "stdout"
        }
      ]
    },
    {
      "cell_type": "code",
      "metadata": {
        "id": "KEL6FLyouBCf"
      },
      "source": [
        "def Predict_Edge(node1,node2):\n",
        "\n",
        "  cols= np.array([node1,\n",
        "        node2,\n",
        "        centrality_dict[node1],\n",
        "        centrality_dict[node2],\n",
        "        propensity(node1),\n",
        "        propensity(node2), \n",
        "        clustering_dict[node1],\n",
        "        clustering_dict[node2],\n",
        "        spl(node1,node2),\n",
        "        n_high_degree(node1,node2),\n",
        "        r_balanced(node1,node2),\n",
        "        r_mutual(node1,node2),\n",
        "        G[node1][node2]['weight']])\n",
        "  \n",
        "  #print(cols.shape)\n",
        "  cols = min_max_scaler.transform(cols[2:12].reshape(1, -1))\n",
        "  #print(cols.shape)\n",
        "  if degree_dict[node1]<10 and degree_dict[node2]<10:\n",
        "    if modelA.predict(cols[0][6:10].reshape(1, -1)) == 0:\n",
        "      return 0\n",
        "    else:\n",
        "      return 1\n",
        "  else:\n",
        "    if modelAB.predict(cols[0].reshape(1, -1)) == 0:\n",
        "      return 0\n",
        "    else:\n",
        "      return 1"
      ],
      "execution_count": null,
      "outputs": []
    },
    {
      "cell_type": "code",
      "metadata": {
        "id": "ce5_WEerBPG8"
      },
      "source": [
        "for cols in test_data.values:\n",
        "  y_pred = np.append(y_pred, Predict_Edge(cols[0],cols[1]))"
      ],
      "execution_count": null,
      "outputs": []
    },
    {
      "cell_type": "code",
      "metadata": {
        "id": "-RkWO6jUDlTM",
        "colab": {
          "base_uri": "https://localhost:8080/",
          "height": 297
        },
        "outputId": "e7242ecb-90e5-4844-9c59-d15dd1c37208"
      },
      "source": [
        "dataset[['node_centrality2',\t'cluster_coeff2',\t'propensity2',\t'shortest_path_length', 'n_high_degree',\t'r_balanced',\t'r_mutual',\t'rating']].describe(\n",
        ")"
      ],
      "execution_count": 256,
      "outputs": [
        {
          "output_type": "execute_result",
          "data": {
            "text/html": [
              "<div>\n",
              "<style scoped>\n",
              "    .dataframe tbody tr th:only-of-type {\n",
              "        vertical-align: middle;\n",
              "    }\n",
              "\n",
              "    .dataframe tbody tr th {\n",
              "        vertical-align: top;\n",
              "    }\n",
              "\n",
              "    .dataframe thead th {\n",
              "        text-align: right;\n",
              "    }\n",
              "</style>\n",
              "<table border=\"1\" class=\"dataframe\">\n",
              "  <thead>\n",
              "    <tr style=\"text-align: right;\">\n",
              "      <th></th>\n",
              "      <th>node_centrality2</th>\n",
              "      <th>cluster_coeff2</th>\n",
              "      <th>propensity2</th>\n",
              "      <th>shortest_path_length</th>\n",
              "      <th>n_high_degree</th>\n",
              "      <th>r_balanced</th>\n",
              "      <th>r_mutual</th>\n",
              "      <th>rating</th>\n",
              "    </tr>\n",
              "  </thead>\n",
              "  <tbody>\n",
              "    <tr>\n",
              "      <th>count</th>\n",
              "      <td>101886.000000</td>\n",
              "      <td>101886.000000</td>\n",
              "      <td>101886.000000</td>\n",
              "      <td>101886.00000</td>\n",
              "      <td>101886.000000</td>\n",
              "      <td>101886.000000</td>\n",
              "      <td>101886.000000</td>\n",
              "      <td>101886.000000</td>\n",
              "    </tr>\n",
              "    <tr>\n",
              "      <th>mean</th>\n",
              "      <td>0.128161</td>\n",
              "      <td>0.130538</td>\n",
              "      <td>0.831920</td>\n",
              "      <td>0.41472</td>\n",
              "      <td>0.561117</td>\n",
              "      <td>0.778873</td>\n",
              "      <td>0.687677</td>\n",
              "      <td>0.162760</td>\n",
              "    </tr>\n",
              "    <tr>\n",
              "      <th>std</th>\n",
              "      <td>0.142084</td>\n",
              "      <td>0.101821</td>\n",
              "      <td>0.183326</td>\n",
              "      <td>0.07378</td>\n",
              "      <td>0.107101</td>\n",
              "      <td>0.215226</td>\n",
              "      <td>0.353767</td>\n",
              "      <td>0.369149</td>\n",
              "    </tr>\n",
              "    <tr>\n",
              "      <th>min</th>\n",
              "      <td>0.000000</td>\n",
              "      <td>0.000000</td>\n",
              "      <td>0.000000</td>\n",
              "      <td>0.00000</td>\n",
              "      <td>0.000000</td>\n",
              "      <td>0.000000</td>\n",
              "      <td>0.000000</td>\n",
              "      <td>0.000000</td>\n",
              "    </tr>\n",
              "    <tr>\n",
              "      <th>25%</th>\n",
              "      <td>0.033546</td>\n",
              "      <td>0.080882</td>\n",
              "      <td>0.767606</td>\n",
              "      <td>0.40000</td>\n",
              "      <td>0.600000</td>\n",
              "      <td>0.700000</td>\n",
              "      <td>0.500000</td>\n",
              "      <td>0.000000</td>\n",
              "    </tr>\n",
              "    <tr>\n",
              "      <th>50%</th>\n",
              "      <td>0.089457</td>\n",
              "      <td>0.114967</td>\n",
              "      <td>0.888889</td>\n",
              "      <td>0.40000</td>\n",
              "      <td>0.600000</td>\n",
              "      <td>0.800000</td>\n",
              "      <td>0.818182</td>\n",
              "      <td>0.000000</td>\n",
              "    </tr>\n",
              "    <tr>\n",
              "      <th>75%</th>\n",
              "      <td>0.169329</td>\n",
              "      <td>0.157505</td>\n",
              "      <td>0.958333</td>\n",
              "      <td>0.40000</td>\n",
              "      <td>0.600000</td>\n",
              "      <td>1.000000</td>\n",
              "      <td>1.000000</td>\n",
              "      <td>0.000000</td>\n",
              "    </tr>\n",
              "    <tr>\n",
              "      <th>max</th>\n",
              "      <td>1.000000</td>\n",
              "      <td>1.000000</td>\n",
              "      <td>1.000000</td>\n",
              "      <td>1.00000</td>\n",
              "      <td>1.000000</td>\n",
              "      <td>1.000000</td>\n",
              "      <td>1.000000</td>\n",
              "      <td>1.000000</td>\n",
              "    </tr>\n",
              "  </tbody>\n",
              "</table>\n",
              "</div>"
            ],
            "text/plain": [
              "       node_centrality2  cluster_coeff2  ...       r_mutual         rating\n",
              "count     101886.000000   101886.000000  ...  101886.000000  101886.000000\n",
              "mean           0.128161        0.130538  ...       0.687677       0.162760\n",
              "std            0.142084        0.101821  ...       0.353767       0.369149\n",
              "min            0.000000        0.000000  ...       0.000000       0.000000\n",
              "25%            0.033546        0.080882  ...       0.500000       0.000000\n",
              "50%            0.089457        0.114967  ...       0.818182       0.000000\n",
              "75%            0.169329        0.157505  ...       1.000000       0.000000\n",
              "max            1.000000        1.000000  ...       1.000000       1.000000\n",
              "\n",
              "[8 rows x 8 columns]"
            ]
          },
          "metadata": {
            "tags": []
          },
          "execution_count": 256
        }
      ]
    },
    {
      "cell_type": "code",
      "metadata": {
        "id": "cOQlwkKgdUIT"
      },
      "source": [
        ""
      ],
      "execution_count": null,
      "outputs": []
    },
    {
      "cell_type": "markdown",
      "metadata": {
        "id": "aplXsX2mdd-l"
      },
      "source": [
        ""
      ]
    }
  ]
}